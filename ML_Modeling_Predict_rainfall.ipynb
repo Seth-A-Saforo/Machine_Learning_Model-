{
 "cells": [
  {
   "cell_type": "markdown",
   "id": "de4b9125",
   "metadata": {},
   "source": [
    "# Importing Libraries"
   ]
  },
  {
   "cell_type": "code",
   "execution_count": 33,
   "id": "80aaa56d",
   "metadata": {},
   "outputs": [],
   "source": [
    "import numpy as np\n",
    "import pandas as pd\n",
    "import os\n",
    "from sklearn.impute import SimpleImputer\n",
    "from sklearn.preprocessing import LabelEncoder\n",
    "from sklearn.preprocessing import StandardScaler\n",
    "from sklearn.model_selection import train_test_split\n",
    "from sklearn.linear_model import LogisticRegression\n",
    "from sklearn.metrics import accuracy_score\n",
    "import statsmodels.api as sm\n",
    "from sklearn.metrics import r2_score\n",
    "\n",
    "os.chdir(\"C:/Users/user/Desktop/PYTHON/Machine Leraning Models\")"
   ]
  },
  {
   "cell_type": "markdown",
   "id": "56182272",
   "metadata": {},
   "source": [
    "# Importing Dataset"
   ]
  },
  {
   "cell_type": "code",
   "execution_count": 2,
   "id": "b8af9d9c",
   "metadata": {},
   "outputs": [],
   "source": [
    "data = pd.read_csv(\"weatherAUS.csv\")\n",
    "x  = data.iloc[:, [1,2,3,4,7,8,9,10,11,12,13,14,15,16,17,18,19,20,21]].values\n",
    "y = data.iloc[:,-1].values"
   ]
  },
  {
   "cell_type": "code",
   "execution_count": 3,
   "id": "56aa08f2",
   "metadata": {},
   "outputs": [
    {
     "name": "stdout",
     "output_type": "stream",
     "text": [
      "[['Albury' 13.4 22.9 ... 16.9 21.8 'No']\n",
      " ['Albury' 7.4 25.1 ... 17.2 24.3 'No']\n",
      " ['Albury' 12.9 25.7 ... 21.0 23.2 'No']\n",
      " ...\n",
      " ['Hobart' 7.6 16.4 ... 10.2 15.5 'Yes']\n",
      " ['Hobart' 9.7 16.9 ... 10.9 15.7 'Yes']\n",
      " [nan nan nan ... nan nan nan]]\n"
     ]
    }
   ],
   "source": [
    "print(x)"
   ]
  },
  {
   "cell_type": "code",
   "execution_count": 4,
   "id": "b90712cd",
   "metadata": {},
   "outputs": [
    {
     "name": "stdout",
     "output_type": "stream",
     "text": [
      "['No' 'No' 'No' ... 'Yes' 'No' nan]\n"
     ]
    }
   ],
   "source": [
    "print(y)"
   ]
  },
  {
   "cell_type": "code",
   "execution_count": 5,
   "id": "e6b102d3",
   "metadata": {},
   "outputs": [
    {
     "name": "stdout",
     "output_type": "stream",
     "text": [
      "[['No']\n",
      " ['No']\n",
      " ['No']\n",
      " ...\n",
      " ['Yes']\n",
      " ['No']\n",
      " [nan]]\n"
     ]
    }
   ],
   "source": [
    "y = y.reshape(-1,1)\n",
    "print(y)"
   ]
  },
  {
   "cell_type": "markdown",
   "id": "dad62046",
   "metadata": {},
   "source": [
    "# Cleaning Dataset "
   ]
  },
  {
   "cell_type": "code",
   "execution_count": 6,
   "id": "d66ab82d",
   "metadata": {},
   "outputs": [],
   "source": [
    "imputer = SimpleImputer(missing_values=np.nan,strategy='most_frequent')\n",
    "x = imputer.fit_transform(x)\n",
    "y = imputer.fit_transform(y)"
   ]
  },
  {
   "cell_type": "code",
   "execution_count": 7,
   "id": "06ddc2eb",
   "metadata": {},
   "outputs": [
    {
     "name": "stdout",
     "output_type": "stream",
     "text": [
      "[['Albury' 13.4 22.9 ... 16.9 21.8 'No']\n",
      " ['Albury' 7.4 25.1 ... 17.2 24.3 'No']\n",
      " ['Albury' 12.9 25.7 ... 21.0 23.2 'No']\n",
      " ...\n",
      " ['Hobart' 7.6 16.4 ... 10.2 15.5 'Yes']\n",
      " ['Hobart' 9.7 16.9 ... 10.9 15.7 'Yes']\n",
      " ['Canberra' 9.6 20.0 ... 17.0 20.0 'No']]\n",
      "[['No']\n",
      " ['No']\n",
      " ['No']\n",
      " ...\n",
      " ['Yes']\n",
      " ['No']\n",
      " ['No']]\n"
     ]
    }
   ],
   "source": [
    "print(x)\n",
    "print(y)"
   ]
  },
  {
   "cell_type": "code",
   "execution_count": 8,
   "id": "f549ba24",
   "metadata": {},
   "outputs": [
    {
     "name": "stderr",
     "output_type": "stream",
     "text": [
      "C:\\Users\\user\\anaconda3\\lib\\site-packages\\sklearn\\utils\\validation.py:63: DataConversionWarning: A column-vector y was passed when a 1d array was expected. Please change the shape of y to (n_samples, ), for example using ravel().\n",
      "  return f(*args, **kwargs)\n"
     ]
    }
   ],
   "source": [
    "# Replacing strings with numerical data(Encoding Dataset)\n",
    "le1 = LabelEncoder()\n",
    "x [:,0]= le1.fit_transform(x[:,0])\n",
    "le2 = LabelEncoder()\n",
    "x[:,4] = le2.fit_transform(x[:,4]) \n",
    "le3 = LabelEncoder()\n",
    "x[:,6] = le3.fit_transform(x[:,6])\n",
    "le4 = LabelEncoder()\n",
    "x[:,7] = le4.fit_transform(x[:,7])\n",
    "le5 = LabelEncoder()\n",
    "x[:,-1] = le5.fit_transform(x[:,-1])\n",
    "le6 = LabelEncoder()\n",
    "y = le6.fit_transform(y)"
   ]
  },
  {
   "cell_type": "code",
   "execution_count": 9,
   "id": "269fc11f",
   "metadata": {},
   "outputs": [
    {
     "name": "stdout",
     "output_type": "stream",
     "text": [
      "[[2 13.4 22.9 ... 16.9 21.8 0]\n",
      " [2 7.4 25.1 ... 17.2 24.3 0]\n",
      " [2 12.9 25.7 ... 21.0 23.2 0]\n",
      " ...\n",
      " [13 7.6 16.4 ... 10.2 15.5 1]\n",
      " [13 9.7 16.9 ... 10.9 15.7 1]\n",
      " [8 9.6 20.0 ... 17.0 20.0 0]]\n"
     ]
    }
   ],
   "source": [
    "print(x)"
   ]
  },
  {
   "cell_type": "code",
   "execution_count": 10,
   "id": "4b29e22b",
   "metadata": {},
   "outputs": [
    {
     "name": "stdout",
     "output_type": "stream",
     "text": [
      "[0 0 0 ... 1 0 0]\n"
     ]
    }
   ],
   "source": [
    "print(y)"
   ]
  },
  {
   "cell_type": "code",
   "execution_count": 11,
   "id": "ce468c0e",
   "metadata": {},
   "outputs": [],
   "source": [
    "# Feature Scaling\n",
    "sc = StandardScaler()\n",
    "x = sc.fit_transform(x)"
   ]
  },
  {
   "cell_type": "code",
   "execution_count": 12,
   "id": "7b999557",
   "metadata": {},
   "outputs": [
    {
     "name": "stdout",
     "output_type": "stream",
     "text": [
      "[[-1.52042673  0.25211794  0.02588312 ...  0.04659483  0.08779409\n",
      "  -0.5360392 ]\n",
      " [-1.52042673 -0.73425123  0.34840009 ...  0.09552006  0.46631749\n",
      "  -0.5360392 ]\n",
      " [-1.52042673  0.16992051  0.43635926 ...  0.71523969  0.2997672\n",
      "  -0.5360392 ]\n",
      " ...\n",
      " [-0.65998973 -0.70137226 -0.92700792 ... -1.04606873 -0.86608487\n",
      "   1.8655352 ]\n",
      " [-0.65998973 -0.35614305 -0.85370861 ... -0.93190985 -0.835803\n",
      "   1.8655352 ]\n",
      " [-1.05109746 -0.37258253 -0.39925288 ...  0.06290324 -0.18474275\n",
      "  -0.5360392 ]]\n"
     ]
    }
   ],
   "source": [
    "print(x)"
   ]
  },
  {
   "cell_type": "markdown",
   "id": "1e717d57",
   "metadata": {},
   "source": [
    "# Splitting Dataset into Training and Test set"
   ]
  },
  {
   "cell_type": "code",
   "execution_count": 13,
   "id": "3a0a6e57",
   "metadata": {},
   "outputs": [],
   "source": [
    "x_train, x_test, y_train, y_test = train_test_split(x,y,train_size=0.6, test_size=0.3,random_state=100)"
   ]
  },
  {
   "cell_type": "code",
   "execution_count": 14,
   "id": "5f487d61",
   "metadata": {},
   "outputs": [
    {
     "name": "stdout",
     "output_type": "stream",
     "text": [
      "[[ 1.29554893 -1.04660147 -0.92700792 ... -0.78513415 -0.95693049\n",
      "   1.8655352 ]\n",
      " [ 1.60843512  1.17272917  0.12850216 ...  0.91094063  0.25434439\n",
      "  -0.5360392 ]\n",
      " [ 0.82621965  0.4165128   2.12224342 ...  1.40019297  2.05611577\n",
      "  -0.5360392 ]\n",
      " ...\n",
      " [ 1.13910584 -1.47402811 -1.95319828 ... -1.76363883 -2.13792349\n",
      "  -0.5360392 ]\n",
      " [-0.73821127  0.97545533  0.52431844 ...  0.97617427  0.48145843\n",
      "  -0.5360392 ]\n",
      " [-0.81643282 -0.7671302  -1.45476296 ... -1.30700331 -1.35059482\n",
      "  -0.5360392 ]]\n"
     ]
    }
   ],
   "source": [
    "print(x_train)"
   ]
  },
  {
   "cell_type": "code",
   "execution_count": 15,
   "id": "4fe2b38a",
   "metadata": {},
   "outputs": [
    {
     "name": "stdout",
     "output_type": "stream",
     "text": [
      "[1 0 0 ... 1 0 0]\n"
     ]
    }
   ],
   "source": [
    "print(y_train)"
   ]
  },
  {
   "cell_type": "markdown",
   "id": "b3d38bd5",
   "metadata": {},
   "source": [
    "# Training and Testing Model "
   ]
  },
  {
   "cell_type": "code",
   "execution_count": 16,
   "id": "902352c0",
   "metadata": {},
   "outputs": [
    {
     "data": {
      "text/plain": [
       "0.8388750659730076"
      ]
     },
     "execution_count": 16,
     "metadata": {},
     "output_type": "execute_result"
    }
   ],
   "source": [
    "# LogisticRegession\n",
    "rain_prob = LogisticRegression()\n",
    "rain_prob.fit(x_train, y_train)\n",
    "rain_prob.score(x_test, y_test)"
   ]
  },
  {
   "cell_type": "code",
   "execution_count": 24,
   "id": "c8df6ae6",
   "metadata": {},
   "outputs": [
    {
     "data": {
      "text/plain": [
       "array([0, 0, 1, ..., 0, 0, 0])"
      ]
     },
     "execution_count": 24,
     "metadata": {},
     "output_type": "execute_result"
    }
   ],
   "source": [
    "y_pred = rain_prob.predict(x_test)\n",
    "y_pred"
   ]
  },
  {
   "cell_type": "code",
   "execution_count": 26,
   "id": "b2cfe317",
   "metadata": {},
   "outputs": [],
   "source": [
    "y_pred = le6.inverse_transform(y_pred)"
   ]
  },
  {
   "cell_type": "code",
   "execution_count": 20,
   "id": "68bda33c",
   "metadata": {},
   "outputs": [
    {
     "data": {
      "text/plain": [
       "array(['No', 'No', 'Yes', ..., 'No', 'No', 'No'], dtype=object)"
      ]
     },
     "execution_count": 20,
     "metadata": {},
     "output_type": "execute_result"
    }
   ],
   "source": [
    "y_pred"
   ]
  },
  {
   "cell_type": "code",
   "execution_count": 21,
   "id": "49d5ada6",
   "metadata": {},
   "outputs": [
    {
     "name": "stdout",
     "output_type": "stream",
     "text": [
      "[1 0 1 ... 0 1 0]\n"
     ]
    }
   ],
   "source": [
    "print(y_test)"
   ]
  },
  {
   "cell_type": "code",
   "execution_count": 22,
   "id": "b5009b23",
   "metadata": {},
   "outputs": [],
   "source": [
    "y_test = le6.inverse_transform(y_test)"
   ]
  },
  {
   "cell_type": "code",
   "execution_count": 23,
   "id": "cf64336d",
   "metadata": {},
   "outputs": [
    {
     "name": "stdout",
     "output_type": "stream",
     "text": [
      "['Yes' 'No' 'Yes' ... 'No' 'Yes' 'No']\n"
     ]
    }
   ],
   "source": [
    "print(y_test)"
   ]
  },
  {
   "cell_type": "code",
   "execution_count": 27,
   "id": "5afe9388",
   "metadata": {},
   "outputs": [],
   "source": [
    "y_test = y_test.reshape(-1,1)\n",
    "y_pred = y_pred.reshape(-1,1)"
   ]
  },
  {
   "cell_type": "code",
   "execution_count": 29,
   "id": "57be7ef8",
   "metadata": {},
   "outputs": [],
   "source": [
    "# Concatenating Predictions into a Dataframe\n",
    "df = np.concatenate((y_test, y_pred),axis=1)\n",
    "dataframe = pd.DataFrame(df,columns=[\"Rain on Tommorrow\", \"Prediction of Rain\"])"
   ]
  },
  {
   "cell_type": "code",
   "execution_count": 30,
   "id": "12d42373",
   "metadata": {},
   "outputs": [
    {
     "name": "stdout",
     "output_type": "stream",
     "text": [
      "      Rain on Tommorrow Prediction of Rain\n",
      "0                   Yes                 No\n",
      "1                    No                 No\n",
      "2                   Yes                Yes\n",
      "3                    No                 No\n",
      "4                    No                 No\n",
      "...                 ...                ...\n",
      "39784                No                Yes\n",
      "39785                No                 No\n",
      "39786                No                 No\n",
      "39787               Yes                 No\n",
      "39788                No                 No\n",
      "\n",
      "[39789 rows x 2 columns]\n"
     ]
    }
   ],
   "source": [
    "print(dataframe)"
   ]
  },
  {
   "cell_type": "code",
   "execution_count": 31,
   "id": "1356812e",
   "metadata": {},
   "outputs": [
    {
     "data": {
      "text/plain": [
       "0.8388750659730076"
      ]
     },
     "execution_count": 31,
     "metadata": {},
     "output_type": "execute_result"
    }
   ],
   "source": [
    "accuracy_score(y_test, y_pred)"
   ]
  },
  {
   "cell_type": "code",
   "execution_count": 38,
   "id": "ac495dd3",
   "metadata": {},
   "outputs": [],
   "source": [
    "# Linear Regession \n",
    "X_train = sm.add_constant(x_train)\n",
    "rain = sm.OLS(y_train, X_train).fit()"
   ]
  },
  {
   "cell_type": "code",
   "execution_count": 39,
   "id": "3b4fdcfb",
   "metadata": {},
   "outputs": [
    {
     "data": {
      "text/plain": [
       "array([ 0.22368381, -0.0059986 ,  0.0104078 ,  0.00057661,  0.02026052,\n",
       "        0.00399082,  0.09892713, -0.01324335,  0.00570815, -0.00032962,\n",
       "       -0.04390546, -0.01220735,  0.17423573,  0.11977177, -0.17616457,\n",
       "       -0.00439151,  0.03128373, -0.03433529,  0.01966012,  0.04649193])"
      ]
     },
     "execution_count": 39,
     "metadata": {},
     "output_type": "execute_result"
    }
   ],
   "source": [
    "rain.params"
   ]
  },
  {
   "cell_type": "code",
   "execution_count": 40,
   "id": "157b1ecb",
   "metadata": {},
   "outputs": [
    {
     "data": {
      "text/html": [
       "<table class=\"simpletable\">\n",
       "<caption>OLS Regression Results</caption>\n",
       "<tr>\n",
       "  <th>Dep. Variable:</th>            <td>y</td>        <th>  R-squared:         </th> <td>   0.293</td> \n",
       "</tr>\n",
       "<tr>\n",
       "  <th>Model:</th>                   <td>OLS</td>       <th>  Adj. R-squared:    </th> <td>   0.292</td> \n",
       "</tr>\n",
       "<tr>\n",
       "  <th>Method:</th>             <td>Least Squares</td>  <th>  F-statistic:       </th> <td>   1731.</td> \n",
       "</tr>\n",
       "<tr>\n",
       "  <th>Date:</th>             <td>Fri, 09 Sep 2022</td> <th>  Prob (F-statistic):</th>  <td>  0.00</td>  \n",
       "</tr>\n",
       "<tr>\n",
       "  <th>Time:</th>                 <td>18:26:53</td>     <th>  Log-Likelihood:    </th> <td> -29426.</td> \n",
       "</tr>\n",
       "<tr>\n",
       "  <th>No. Observations:</th>      <td> 79576</td>      <th>  AIC:               </th> <td>5.889e+04</td>\n",
       "</tr>\n",
       "<tr>\n",
       "  <th>Df Residuals:</th>          <td> 79556</td>      <th>  BIC:               </th> <td>5.908e+04</td>\n",
       "</tr>\n",
       "<tr>\n",
       "  <th>Df Model:</th>              <td>    19</td>      <th>                     </th>     <td> </td>    \n",
       "</tr>\n",
       "<tr>\n",
       "  <th>Covariance Type:</th>      <td>nonrobust</td>    <th>                     </th>     <td> </td>    \n",
       "</tr>\n",
       "</table>\n",
       "<table class=\"simpletable\">\n",
       "<tr>\n",
       "    <td></td>       <th>coef</th>     <th>std err</th>      <th>t</th>      <th>P>|t|</th>  <th>[0.025</th>    <th>0.975]</th>  \n",
       "</tr>\n",
       "<tr>\n",
       "  <th>const</th> <td>    0.2237</td> <td>    0.001</td> <td>  180.131</td> <td> 0.000</td> <td>    0.221</td> <td>    0.226</td>\n",
       "</tr>\n",
       "<tr>\n",
       "  <th>x1</th>    <td>   -0.0060</td> <td>    0.001</td> <td>   -4.791</td> <td> 0.000</td> <td>   -0.008</td> <td>   -0.004</td>\n",
       "</tr>\n",
       "<tr>\n",
       "  <th>x2</th>    <td>    0.0104</td> <td>    0.003</td> <td>    3.140</td> <td> 0.002</td> <td>    0.004</td> <td>    0.017</td>\n",
       "</tr>\n",
       "<tr>\n",
       "  <th>x3</th>    <td>    0.0006</td> <td>    0.006</td> <td>    0.093</td> <td> 0.926</td> <td>   -0.012</td> <td>    0.013</td>\n",
       "</tr>\n",
       "<tr>\n",
       "  <th>x4</th>    <td>    0.0203</td> <td>    0.001</td> <td>   13.730</td> <td> 0.000</td> <td>    0.017</td> <td>    0.023</td>\n",
       "</tr>\n",
       "<tr>\n",
       "  <th>x5</th>    <td>    0.0040</td> <td>    0.002</td> <td>    2.532</td> <td> 0.011</td> <td>    0.001</td> <td>    0.007</td>\n",
       "</tr>\n",
       "<tr>\n",
       "  <th>x6</th>    <td>    0.0989</td> <td>    0.002</td> <td>   50.152</td> <td> 0.000</td> <td>    0.095</td> <td>    0.103</td>\n",
       "</tr>\n",
       "<tr>\n",
       "  <th>x7</th>    <td>   -0.0132</td> <td>    0.001</td> <td>   -9.474</td> <td> 0.000</td> <td>   -0.016</td> <td>   -0.011</td>\n",
       "</tr>\n",
       "<tr>\n",
       "  <th>x8</th>    <td>    0.0057</td> <td>    0.002</td> <td>    3.601</td> <td> 0.000</td> <td>    0.003</td> <td>    0.009</td>\n",
       "</tr>\n",
       "<tr>\n",
       "  <th>x9</th>    <td>   -0.0003</td> <td>    0.002</td> <td>   -0.195</td> <td> 0.846</td> <td>   -0.004</td> <td>    0.003</td>\n",
       "</tr>\n",
       "<tr>\n",
       "  <th>x10</th>   <td>   -0.0439</td> <td>    0.002</td> <td>  -25.035</td> <td> 0.000</td> <td>   -0.047</td> <td>   -0.040</td>\n",
       "</tr>\n",
       "<tr>\n",
       "  <th>x11</th>   <td>   -0.0122</td> <td>    0.002</td> <td>   -5.585</td> <td> 0.000</td> <td>   -0.016</td> <td>   -0.008</td>\n",
       "</tr>\n",
       "<tr>\n",
       "  <th>x12</th>   <td>    0.1742</td> <td>    0.003</td> <td>   63.099</td> <td> 0.000</td> <td>    0.169</td> <td>    0.180</td>\n",
       "</tr>\n",
       "<tr>\n",
       "  <th>x13</th>   <td>    0.1198</td> <td>    0.005</td> <td>   22.638</td> <td> 0.000</td> <td>    0.109</td> <td>    0.130</td>\n",
       "</tr>\n",
       "<tr>\n",
       "  <th>x14</th>   <td>   -0.1762</td> <td>    0.005</td> <td>  -34.068</td> <td> 0.000</td> <td>   -0.186</td> <td>   -0.166</td>\n",
       "</tr>\n",
       "<tr>\n",
       "  <th>x15</th>   <td>   -0.0044</td> <td>    0.002</td> <td>   -2.679</td> <td> 0.007</td> <td>   -0.008</td> <td>   -0.001</td>\n",
       "</tr>\n",
       "<tr>\n",
       "  <th>x16</th>   <td>    0.0313</td> <td>    0.002</td> <td>   19.325</td> <td> 0.000</td> <td>    0.028</td> <td>    0.034</td>\n",
       "</tr>\n",
       "<tr>\n",
       "  <th>x17</th>   <td>   -0.0343</td> <td>    0.005</td> <td>   -7.248</td> <td> 0.000</td> <td>   -0.044</td> <td>   -0.025</td>\n",
       "</tr>\n",
       "<tr>\n",
       "  <th>x18</th>   <td>    0.0197</td> <td>    0.007</td> <td>    2.921</td> <td> 0.003</td> <td>    0.006</td> <td>    0.033</td>\n",
       "</tr>\n",
       "<tr>\n",
       "  <th>x19</th>   <td>    0.0465</td> <td>    0.002</td> <td>   29.385</td> <td> 0.000</td> <td>    0.043</td> <td>    0.050</td>\n",
       "</tr>\n",
       "</table>\n",
       "<table class=\"simpletable\">\n",
       "<tr>\n",
       "  <th>Omnibus:</th>       <td>8179.533</td> <th>  Durbin-Watson:     </th> <td>   2.003</td> \n",
       "</tr>\n",
       "<tr>\n",
       "  <th>Prob(Omnibus):</th>  <td> 0.000</td>  <th>  Jarque-Bera (JB):  </th> <td>10927.237</td>\n",
       "</tr>\n",
       "<tr>\n",
       "  <th>Skew:</th>           <td> 0.892</td>  <th>  Prob(JB):          </th> <td>    0.00</td> \n",
       "</tr>\n",
       "<tr>\n",
       "  <th>Kurtosis:</th>       <td> 3.336</td>  <th>  Cond. No.          </th> <td>    15.6</td> \n",
       "</tr>\n",
       "</table><br/><br/>Notes:<br/>[1] Standard Errors assume that the covariance matrix of the errors is correctly specified."
      ],
      "text/plain": [
       "<class 'statsmodels.iolib.summary.Summary'>\n",
       "\"\"\"\n",
       "                            OLS Regression Results                            \n",
       "==============================================================================\n",
       "Dep. Variable:                      y   R-squared:                       0.293\n",
       "Model:                            OLS   Adj. R-squared:                  0.292\n",
       "Method:                 Least Squares   F-statistic:                     1731.\n",
       "Date:                Fri, 09 Sep 2022   Prob (F-statistic):               0.00\n",
       "Time:                        18:26:53   Log-Likelihood:                -29426.\n",
       "No. Observations:               79576   AIC:                         5.889e+04\n",
       "Df Residuals:                   79556   BIC:                         5.908e+04\n",
       "Df Model:                          19                                         \n",
       "Covariance Type:            nonrobust                                         \n",
       "==============================================================================\n",
       "                 coef    std err          t      P>|t|      [0.025      0.975]\n",
       "------------------------------------------------------------------------------\n",
       "const          0.2237      0.001    180.131      0.000       0.221       0.226\n",
       "x1            -0.0060      0.001     -4.791      0.000      -0.008      -0.004\n",
       "x2             0.0104      0.003      3.140      0.002       0.004       0.017\n",
       "x3             0.0006      0.006      0.093      0.926      -0.012       0.013\n",
       "x4             0.0203      0.001     13.730      0.000       0.017       0.023\n",
       "x5             0.0040      0.002      2.532      0.011       0.001       0.007\n",
       "x6             0.0989      0.002     50.152      0.000       0.095       0.103\n",
       "x7            -0.0132      0.001     -9.474      0.000      -0.016      -0.011\n",
       "x8             0.0057      0.002      3.601      0.000       0.003       0.009\n",
       "x9            -0.0003      0.002     -0.195      0.846      -0.004       0.003\n",
       "x10           -0.0439      0.002    -25.035      0.000      -0.047      -0.040\n",
       "x11           -0.0122      0.002     -5.585      0.000      -0.016      -0.008\n",
       "x12            0.1742      0.003     63.099      0.000       0.169       0.180\n",
       "x13            0.1198      0.005     22.638      0.000       0.109       0.130\n",
       "x14           -0.1762      0.005    -34.068      0.000      -0.186      -0.166\n",
       "x15           -0.0044      0.002     -2.679      0.007      -0.008      -0.001\n",
       "x16            0.0313      0.002     19.325      0.000       0.028       0.034\n",
       "x17           -0.0343      0.005     -7.248      0.000      -0.044      -0.025\n",
       "x18            0.0197      0.007      2.921      0.003       0.006       0.033\n",
       "x19            0.0465      0.002     29.385      0.000       0.043       0.050\n",
       "==============================================================================\n",
       "Omnibus:                     8179.533   Durbin-Watson:                   2.003\n",
       "Prob(Omnibus):                  0.000   Jarque-Bera (JB):            10927.237\n",
       "Skew:                           0.892   Prob(JB):                         0.00\n",
       "Kurtosis:                       3.336   Cond. No.                         15.6\n",
       "==============================================================================\n",
       "\n",
       "Notes:\n",
       "[1] Standard Errors assume that the covariance matrix of the errors is correctly specified.\n",
       "\"\"\""
      ]
     },
     "execution_count": 40,
     "metadata": {},
     "output_type": "execute_result"
    }
   ],
   "source": [
    "rain.summary()"
   ]
  },
  {
   "cell_type": "code",
   "execution_count": 42,
   "id": "538fc416",
   "metadata": {},
   "outputs": [
    {
     "data": {
      "text/plain": [
       "array([ 0.42082356, -0.36863956, -0.06550085, ...,  0.63519842,\n",
       "       -0.31116568, -0.30189274])"
      ]
     },
     "execution_count": 42,
     "metadata": {},
     "output_type": "execute_result"
    }
   ],
   "source": [
    "yhat = rain.predict(X_train)\n",
    "err = (y_train - yhat)\n",
    "err"
   ]
  },
  {
   "cell_type": "code",
   "execution_count": 43,
   "id": "5379685e",
   "metadata": {},
   "outputs": [
    {
     "data": {
      "text/plain": [
       "array([0.42843464, 0.27647977, 0.7828861 , ..., 0.39336703, 0.26887029,\n",
       "       0.22992819])"
      ]
     },
     "execution_count": 43,
     "metadata": {},
     "output_type": "execute_result"
    }
   ],
   "source": [
    "X_test = sm.add_constant(x_test)\n",
    "Y_test_pred = rain.predict(X_test)\n",
    "Y_test_pred"
   ]
  },
  {
   "cell_type": "code",
   "execution_count": null,
   "id": "9743eded",
   "metadata": {},
   "outputs": [],
   "source": []
  }
 ],
 "metadata": {
  "kernelspec": {
   "display_name": "Python 3 (ipykernel)",
   "language": "python",
   "name": "python3"
  },
  "language_info": {
   "codemirror_mode": {
    "name": "ipython",
    "version": 3
   },
   "file_extension": ".py",
   "mimetype": "text/x-python",
   "name": "python",
   "nbconvert_exporter": "python",
   "pygments_lexer": "ipython3",
   "version": "3.9.7"
  }
 },
 "nbformat": 4,
 "nbformat_minor": 5
}
